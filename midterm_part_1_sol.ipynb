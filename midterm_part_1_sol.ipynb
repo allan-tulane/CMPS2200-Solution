{
 "cells": [
  {
   "cell_type": "code",
   "execution_count": 1,
   "metadata": {
    "code_folding": [],
    "slideshow": {
     "slide_type": "skip"
    }
   },
   "outputs": [
    {
     "name": "stderr",
     "output_type": "stream",
     "text": [
      "/var/folders/8t/f5lr_py56_78f39pmpx4l3sm0000gn/T/ipykernel_14383/1435612826.py:2: DeprecationWarning: Importing display from IPython.core.display is deprecated since IPython 7.14, please import from IPython display\n",
      "  from IPython.core.display import display,HTML\n"
     ]
    },
    {
     "data": {
      "text/html": [
       "<style>.prompt{width: 0px; min-width: 0px; visibility: collapse}</style>"
      ],
      "text/plain": [
       "<IPython.core.display.HTML object>"
      ]
     },
     "metadata": {},
     "output_type": "display_data"
    },
    {
     "data": {
      "text/html": [
       "<style>\n",
       "div#notebook {\n",
       " font-family: \"Exo_2\", sans-serif;\n",
       "}\n",
       "\n",
       ".rendered_html h1,\n",
       ".text_cell_render h1 {\n",
       " color: #126dce;\n",
       " font-size: 220%;\n",
       " text-align: center;\n",
       " font-weight: lighter;\n",
       "}\n",
       ".rendered_html h2,\n",
       ".text_cell_render h2 {\n",
       " text-align: center;\n",
       " font-size: 170%;\n",
       " color: #126dce;\n",
       " font-style: normal;\n",
       " font-weight: lighter;\n",
       "}\n",
       ".rendered_html h3,\n",
       ".text_cell_render h3 {\n",
       " font-size: 150%;\n",
       " color: #126dce;\n",
       " font-weight: lighter;\n",
       " text-decoration: italic;\n",
       " font-style: normal;\n",
       "}\n",
       ".rendered_html h4,\n",
       ".text_cell_render h4 {\n",
       " font-size: 120%;\n",
       " color: #126dce;\n",
       " font-weight: underline;\n",
       " font-style: normal;\n",
       "}\n",
       ".rendered_html h5,\n",
       ".text_cell_render h5 {\n",
       " font-size: 100%;\n",
       " color: #2f2f2f;\n",
       " font-weight: lighter;\n",
       " text-decoration: underline;\n",
       "}\n",
       "</style>\n"
      ],
      "text/plain": [
       "<IPython.core.display.HTML object>"
      ]
     },
     "metadata": {},
     "output_type": "display_data"
    }
   ],
   "source": [
    "# setup\n",
    "from IPython.core.display import display,HTML\n",
    "display(HTML('<style>.prompt{width: 0px; min-width: 0px; visibility: collapse}</style>'))\n",
    "display(HTML(open('rise.css').read()))\n",
    "\n",
    "# imports\n",
    "import numpy as np\n",
    "import matplotlib.pyplot as plt\n",
    "import seaborn as sns\n",
    "%matplotlib inline\n",
    "sns.set(style=\"whitegrid\", font_scale=1.5, rc={'figure.figsize':(12, 6)})\n"
   ]
  },
  {
   "cell_type": "markdown",
   "metadata": {
    "slideshow": {
     "slide_type": "slide"
    }
   },
   "source": [
    "# CMPS 2200\n",
    "## Mid-term Review \n",
    "\n",
    "## Solution to Part One\n",
    "\n"
   ]
  },
  {
   "cell_type": "markdown",
   "metadata": {
    "slideshow": {
     "slide_type": "slide"
    }
   },
   "source": [
    "Q1. What does asymptotic analysis primarily study?\n",
    "\n",
    "\n",
    "A) The exact running time of an algorithm\n",
    "\n",
    "B) The memory usage of an algorithm\n",
    "\n",
    "C) The growth rate of an algorithm as input size increases\n",
    "\n",
    "D) The best-case performance of an algorithm \n",
    "\n",
    " > soluiton: C"
   ]
  },
  {
   "cell_type": "markdown",
   "metadata": {
    "slideshow": {
     "slide_type": "slide"
    }
   },
   "source": [
    "Q2. If a parallel algorithm P runs on 6 processors in 80 seconds, and a competing serial algorithm S runs in 160 seconds, then what is the speedup of P as compared to S?\n",
    "\n",
    "> solution: 2"
   ]
  },
  {
   "cell_type": "markdown",
   "metadata": {
    "slideshow": {
     "slide_type": "slide"
    }
   },
   "source": [
    "Q3. Amdahl's Law helps us understand how the amount of \"sequentiality\" in an algorithm affects parallel performance.  If an algorithm is such that only 80% of its operations can be executed in parallel, how much of a speedup can we hope to get with 1000 processors?\n",
    "\n",
    "> solution: 5"
   ]
  },
  {
   "cell_type": "markdown",
   "metadata": {
    "slideshow": {
     "slide_type": "slide"
    }
   },
   "source": [
    "Q4. What is the main goal of analyzing work and span in parallel algorithms?\n",
    "\n",
    "\n",
    "A) To predict the performance and scalability of parallel algorithms\n",
    "\n",
    "B) To measure the memory usage\n",
    "\n",
    "C) To count the number of recursive calls\n",
    "\n",
    "D) To estimate the time complexity on a single processor\n",
    "\n",
    "> solution: A"
   ]
  },
  {
   "cell_type": "markdown",
   "metadata": {
    "slideshow": {
     "slide_type": "slide"
    }
   },
   "source": [
    "Q5. Recurrences play a crucial role in understanding the performance of recursive algorithms. They allow us to describe the running time of these algorithms systematically. By solving recurrences, we aim to derive big-O notation bounds, which provide a simplified analysis of an algorithm's time complexity.\n",
    "\n",
    "> solution: True"
   ]
  },
  {
   "cell_type": "markdown",
   "metadata": {
    "slideshow": {
     "slide_type": "slide"
    }
   },
   "source": [
    "Q6. Which of the following recursive algorithms has the highest span (S)?\n",
    "\n",
    "\n",
    "A) Merge Sort\n",
    "\n",
    "B) Fibonacci Recursive Algorithm\n",
    "\n",
    "C) Finding the minimal element\n",
    "\n",
    "D) Binary Search\n",
    "\n",
    "> solution: B"
   ]
  },
  {
   "cell_type": "markdown",
   "metadata": {
    "slideshow": {
     "slide_type": "slide"
    }
   },
   "source": [
    "Q7-8. What is the Work and Span of this function?\n",
    "\n",
    "<img width=\"60%\" src=\"Q78.png\"/>\n",
    "\n",
    "\n",
    "> solution: Work $O(n^{\\log_2^3})$ and Span $O(\\log n)$"
   ]
  },
  {
   "cell_type": "markdown",
   "metadata": {
    "slideshow": {
     "slide_type": "slide"
    }
   },
   "source": [
    "Q9. Consider the code below, which uses the same reduce function we've seen in lecture:\n",
    "\n",
    "```python\n",
    "def reduce(f, id_, a):\n",
    "    if len(a) == 0:\n",
    "        return id_\n",
    "    elif len(a) == 1:\n",
    "        return a[0]\n",
    "    else:\n",
    "        # call these in parallel\n",
    "        return f(reduce(f, id_, a[:len(a)//2]),\n",
    "                 reduce(f, id_, a[len(a)//2:]))\n",
    "\n",
    "def combine(left, right):\n",
    "    total = 0\n",
    "    for i in left:\n",
    "        for j in right:\n",
    "            total += i + j\n",
    "    return [total]\n",
    "\n",
    "def singleton(value):\n",
    "    return [value]\n",
    "\n",
    "def run(mylist):\n",
    "    return reduce(combine, [], list(map(singleton, mylist)))\n",
    "\n",
    "\n",
    "run([1,8,7,5,2,3,6,4])\n",
    "\n",
    "```\n",
    "\n",
    "\n",
    "\n",
    "What is the Work and Span of this function?\n",
    "\n",
    "\n",
    "\n",
    "> solution: Work $O(n)$ and Span $O(\\log n)$"
   ]
  },
  {
   "cell_type": "markdown",
   "metadata": {
    "slideshow": {
     "slide_type": "slide"
    }
   },
   "source": [
    "Q10. Is the following recurrence root dominated, leaf dominated, or balanced? What is the work?\n",
    "\n",
    "$$W(n) = 3W(n-1)+10n$$\n",
    "\n",
    "> solution: Leaf dominated, $O(3^n)$"
   ]
  },
  {
   "cell_type": "markdown",
   "metadata": {
    "slideshow": {
     "slide_type": "slide"
    }
   },
   "source": [
    "Q11. Is the following recurrence root dominated, leaf dominated, or balanced? What is span?\n",
    "\n",
    "$$S(n) = S(n/2)+\\log n$$\n",
    "\n",
    "> solution: balanced, $O(\\log^2 n)$"
   ]
  },
  {
   "cell_type": "markdown",
   "metadata": {
    "slideshow": {
     "slide_type": "slide"
    }
   },
   "source": [
    "Q12. The advantage of brute-force algorithms lies in their straightforward approach, where the simplicity of design can often lead to very little total energy. This is because we can check all possible solutions concurrently.\n",
    "\n",
    ">solution: False"
   ]
  },
  {
   "cell_type": "markdown",
   "metadata": {
    "slideshow": {
     "slide_type": "slide"
    }
   },
   "source": [
    "Q13. Consider the problem of finding a given element $x$ in a list $L$ of length $n$.\n",
    "\n",
    "What is the search space for this problem?\n",
    "\n",
    "What is the work/span of the brute-force algorithm?\n",
    "\n",
    "\n",
    "\n",
    ">solution: False"
   ]
  },
  {
   "cell_type": "markdown",
   "metadata": {
    "slideshow": {
     "slide_type": "slide"
    }
   },
   "source": [
    "Q14. If a problem $A$ can be reduced to a problem $B$, then any algorithm for problem $A$ can be used to solve problem $B$.\n",
    "\n",
    "\n",
    ">solution: False"
   ]
  },
  {
   "cell_type": "markdown",
   "metadata": {
    "slideshow": {
     "slide_type": "slide"
    }
   },
   "source": [
    "Q15. Divide and conquer algorithms are usually proved to be correct by using: \n",
    "\n",
    "A) The brick method. \n",
    "\n",
    "B) A hope and a prayer. \n",
    "\n",
    "C) The tree method. \n",
    "\n",
    "D) Induction. \n",
    "\n",
    ">solution: D"
   ]
  },
  {
   "cell_type": "markdown",
   "metadata": {
    "slideshow": {
     "slide_type": "slide"
    }
   },
   "source": [
    "Q16. What are the work and span of the brute-force algorithm for longest_run in Assignment 1 Q3? Note that the longest_run means the longest continuous sequence of $key$ in L with n elements. Please write your solutions like \"The work is ?? and the span is ??\". Think about which problem we discussed is similar to this.\n",
    "\n",
    "\n",
    ">solution: We will generate $n^2$ posible solutions, then we will pay work $O(n)$ and span $O(\\log n)$ for each solution, but all can be done in paralell. The next is given $n^2$ values, we need to find the maximal value, the work is $O(n^2)$ and span is $O(\\log n^2) = O(\\log n)$"
   ]
  }
 ],
 "metadata": {
  "celltoolbar": "Slideshow",
  "kernelspec": {
   "display_name": "Python 3 (ipykernel)",
   "language": "python",
   "name": "python3"
  },
  "language_info": {
   "codemirror_mode": {
    "name": "ipython",
    "version": 3
   },
   "file_extension": ".py",
   "mimetype": "text/x-python",
   "name": "python",
   "nbconvert_exporter": "python",
   "pygments_lexer": "ipython3",
   "version": "3.9.6"
  },
  "rise": {
   "autolaunch": true,
   "controls": false,
   "enable_chalkboard": true,
   "scroll": true,
   "theme": "simple",
   "transition": "fade"
  },
  "toc": {
   "base_numbering": 1,
   "nav_menu": {},
   "number_sections": true,
   "sideBar": true,
   "skip_h1_title": true,
   "title_cell": "Table of Contents",
   "title_sidebar": "Contents",
   "toc_cell": true,
   "toc_position": {},
   "toc_section_display": true,
   "toc_window_display": false
  }
 },
 "nbformat": 4,
 "nbformat_minor": 4
}
